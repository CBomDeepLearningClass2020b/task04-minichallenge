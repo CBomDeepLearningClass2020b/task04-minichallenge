{
  "nbformat": 4,
  "nbformat_minor": 0,
  "metadata": {
    "colab": {
      "name": "Tarefa4.ipynb",
      "provenance": []
    },
    "kernelspec": {
      "name": "python3",
      "display_name": "Python 3"
    },
    "accelerator": "GPU"
  },
  "cells": [
    {
      "cell_type": "code",
      "metadata": {
        "id": "8bqYsDot_4xe"
      },
      "source": [
        "from keras import models\n",
        "from keras.layers import Dense, Flatten, Conv2D, MaxPooling2D, Dropout\n",
        "from keras.utils import to_categorical\n",
        "from PIL import Image\n",
        "import numpy as np\n",
        "import matplotlib.pyplot as plt\n",
        "import pandas as pd"
      ],
      "execution_count": null,
      "outputs": []
    },
    {
      "cell_type": "code",
      "metadata": {
        "id": "Fs4WR8IV-Yyz",
        "colab": {
          "base_uri": "https://localhost:8080/",
          "height": 199
        },
        "outputId": "35742ce5-179e-4ac1-af44-60ba0b1c9b87"
      },
      "source": [
        "pip install gdown unrar"
      ],
      "execution_count": null,
      "outputs": [
        {
          "output_type": "stream",
          "text": [
            "Requirement already satisfied: gdown in /usr/local/lib/python3.6/dist-packages (3.6.4)\n",
            "Requirement already satisfied: unrar in /usr/local/lib/python3.6/dist-packages (0.4)\n",
            "Requirement already satisfied: six in /usr/local/lib/python3.6/dist-packages (from gdown) (1.15.0)\n",
            "Requirement already satisfied: tqdm in /usr/local/lib/python3.6/dist-packages (from gdown) (4.41.1)\n",
            "Requirement already satisfied: requests in /usr/local/lib/python3.6/dist-packages (from gdown) (2.23.0)\n",
            "Requirement already satisfied: certifi>=2017.4.17 in /usr/local/lib/python3.6/dist-packages (from requests->gdown) (2020.6.20)\n",
            "Requirement already satisfied: idna<3,>=2.5 in /usr/local/lib/python3.6/dist-packages (from requests->gdown) (2.10)\n",
            "Requirement already satisfied: urllib3!=1.25.0,!=1.25.1,<1.26,>=1.21.1 in /usr/local/lib/python3.6/dist-packages (from requests->gdown) (1.24.3)\n",
            "Requirement already satisfied: chardet<4,>=3.0.2 in /usr/local/lib/python3.6/dist-packages (from requests->gdown) (3.0.4)\n"
          ],
          "name": "stdout"
        }
      ]
    },
    {
      "cell_type": "code",
      "metadata": {
        "id": "-u-bp3_H-d1P",
        "colab": {
          "base_uri": "https://localhost:8080/",
          "height": 161
        },
        "outputId": "8b78ab37-322b-43d5-bd12-0deef0e9c560"
      },
      "source": [
        "!gdown https://drive.google.com/u/0/uc?id=1-R2tYoDl_P56LevfF95tP_qv1MbcVZQJ\n",
        "!gdown https://drive.google.com/uc?id=13zpbNNGYafdYWmdQO0-ArGjm9ipZkD5Q"
      ],
      "execution_count": null,
      "outputs": [
        {
          "output_type": "stream",
          "text": [
            "Downloading...\n",
            "From: https://drive.google.com/u/0/uc?id=1-R2tYoDl_P56LevfF95tP_qv1MbcVZQJ\n",
            "To: /content/dataset_images_minitest.csv\n",
            "100% 739k/739k [00:00<00:00, 86.3MB/s]\n",
            "Downloading...\n",
            "From: https://drive.google.com/uc?id=13zpbNNGYafdYWmdQO0-ArGjm9ipZkD5Q\n",
            "To: /content/data_folder.rar\n",
            "937MB [00:06, 151MB/s]\n"
          ],
          "name": "stdout"
        }
      ]
    },
    {
      "cell_type": "code",
      "metadata": {
        "id": "u_YXzsFN5MG5",
        "colab": {
          "base_uri": "https://localhost:8080/",
          "height": 35
        },
        "outputId": "e70c6172-135c-4611-ffbc-7ed0f1084fab"
      },
      "source": [
        "!ls"
      ],
      "execution_count": null,
      "outputs": [
        {
          "output_type": "stream",
          "text": [
            "data_folder  data_folder.rar  dataset_images_minitest.csv  sample_data\n"
          ],
          "name": "stdout"
        }
      ]
    },
    {
      "cell_type": "code",
      "metadata": {
        "id": "_Q3LR2bjeHB3",
        "colab": {
          "base_uri": "https://localhost:8080/",
          "height": 305
        },
        "outputId": "f0334f87-4ee7-421d-86d2-adffadec353d"
      },
      "source": [
        "!unrar x data_folder.rar"
      ],
      "execution_count": null,
      "outputs": [
        {
          "output_type": "stream",
          "text": [
            "\n",
            "UNRAR 5.50 freeware      Copyright (c) 1993-2017 Alexander Roshal\n",
            "\n",
            "\n",
            "Extracting from data_folder.rar\n",
            "\n",
            "\n",
            "Would you like to replace the existing file data_folder/10002005746_7f1502879b.jpg\n",
            " 26694 bytes, modified on 2018-07-30 16:40\n",
            "with a new one\n",
            " 26694 bytes, modified on 2018-07-30 16:40\n",
            "\n",
            "[Y]es, [N]o, [A]ll, n[E]ver, [R]ename, [Q]uit \n",
            "User break\n",
            "\n",
            "User break\n"
          ],
          "name": "stdout"
        }
      ]
    },
    {
      "cell_type": "code",
      "metadata": {
        "id": "fm7MzhsEftZc"
      },
      "source": [
        "data = pd.read_csv('dataset_images_minitest.csv', delimiter = '\\t')\n",
        "\n",
        "rdata = np.asarray(data.sample(len(data['filename'])))"
      ],
      "execution_count": null,
      "outputs": []
    },
    {
      "cell_type": "code",
      "metadata": {
        "id": "L9k-oWtueO24"
      },
      "source": [
        "images = []\n",
        "\n",
        "for i in range(len(rdata)):\n",
        "    #print(i, rdata[i,0])\n",
        "    images.append(np.array(Image.open('data_folder/' + rdata[i][0]).convert('L').resize((100,100))))"
      ],
      "execution_count": null,
      "outputs": []
    },
    {
      "cell_type": "code",
      "metadata": {
        "id": "OgVeD0Mlg9LC",
        "colab": {
          "base_uri": "https://localhost:8080/",
          "height": 35
        },
        "outputId": "3feb0a32-263e-4aac-f8b6-41cfaf4809b4"
      },
      "source": [
        "np.shape(images)"
      ],
      "execution_count": null,
      "outputs": [
        {
          "output_type": "execute_result",
          "data": {
            "text/plain": [
              "(20987, 100, 100)"
            ]
          },
          "metadata": {
            "tags": []
          },
          "execution_count": 9
        }
      ]
    },
    {
      "cell_type": "code",
      "metadata": {
        "id": "ljyd5p2Tgici",
        "colab": {
          "base_uri": "https://localhost:8080/",
          "height": 286
        },
        "outputId": "06b68ea4-1cf0-4262-b381-6e43f7e24b1b"
      },
      "source": [
        "k = np.int(np.random.uniform(0,len(rdata)))\n",
        "\n",
        "plt.imshow(images[k])\n",
        "print('Label:', rdata[k])"
      ],
      "execution_count": null,
      "outputs": [
        {
          "output_type": "stream",
          "text": [
            "Label: ['3774825950_4f6ae0f663.jpg' 'graduation']\n"
          ],
          "name": "stdout"
        },
        {
          "output_type": "display_data",
          "data": {
            "image/png": "[encoded data removed]",
            "text/plain": [
              "<Figure size 432x288 with 1 Axes>"
            ]
          },
          "metadata": {
            "tags": [],
            "needs_background": "light"
          }
        }
      ]
    },
    {
      "cell_type": "code",
      "metadata": {
        "id": "lwBAAFQbgnvR"
      },
      "source": [
        "for i in range(len(rdata)):\n",
        "    if rdata[i,1] == 'picnic':\n",
        "        rdata[i,1] = 0\n",
        "    elif rdata[i,1] == 'graduation':\n",
        "        rdata[i,1] = 1\n",
        "    elif rdata[i,1] == 'meeting':\n",
        "        rdata[i,1] = 2"
      ],
      "execution_count": null,
      "outputs": []
    },
    {
      "cell_type": "code",
      "metadata": {
        "id": "OMoJJguFgpBF"
      },
      "source": [
        "train_images = np.array(images[:np.int(0.8*len(images))])\n",
        "test_images = np.array(images[np.int(0.8*len(images)):])\n",
        "\n",
        "train_labels = rdata[:np.int(0.8*len(rdata)),1]\n",
        "test_labels = rdata[np.int(0.8*len(rdata)):,1]"
      ],
      "execution_count": null,
      "outputs": []
    },
    {
      "cell_type": "code",
      "metadata": {
        "id": "N9Xu18RRiCEM"
      },
      "source": [
        "train_images = (train_images / 255)\n",
        "test_images = (test_images / 255)\n",
        "\n",
        "train_images = np.expand_dims(train_images, axis=3)\n",
        "test_images = np.expand_dims(test_images, axis=3)\n",
        "\n",
        "train_labels = to_categorical(train_labels)\n",
        "test_labels = to_categorical(test_labels)"
      ],
      "execution_count": null,
      "outputs": []
    },
    {
      "cell_type": "code",
      "metadata": {
        "id": "LapuIy40iF-f"
      },
      "source": [
        "network = models.Sequential()\n",
        "network.add(Conv2D(1000, (4,4), input_shape = (100, 100, 1)))\n",
        "network.add(MaxPooling2D(pool_size=(3,3)))\n",
        "network.add(Dropout(0.2))\n",
        "\n",
        "network.add(Conv2D(500, (4,4)))\n",
        "network.add(MaxPooling2D(pool_size=(3,3)))\n",
        "network.add(Dropout(0.2))\n",
        "\n",
        "network.add(Conv2D(200, (4,4)))\n",
        "network.add(MaxPooling2D(pool_size=(3,3)))\n",
        "network.add(Dropout(0.2))\n",
        "\n",
        "network.add(Flatten())\n",
        "network.add(Dense(100, activation = 'relu'))\n",
        "network.add(Dense(3, activation = 'softmax'))"
      ],
      "execution_count": null,
      "outputs": []
    },
    {
      "cell_type": "code",
      "metadata": {
        "id": "F8M0eKfPiI2R",
        "colab": {
          "base_uri": "https://localhost:8080/",
          "height": 415
        },
        "outputId": "49385aa2-1e02-4533-cc3d-85d5277e3031"
      },
      "source": [
        "model = network.fit(train_images, train_labels, epochs = 10, batch_size = 100)"
      ],
      "execution_count": null,
      "outputs": [
        {
          "output_type": "stream",
          "text": [
            "Epoch 1/10\n",
            "  2/168 [..............................] - ETA: 1:22 - loss: 1.8573 - accuracy: 0.4050WARNING:tensorflow:Callbacks method `on_train_batch_end` is slow compared to the batch time (batch time: 0.2218s vs `on_train_batch_end` time: 0.7682s). Check your callbacks.\n",
            "168/168 [==============================] - 179s 1s/step - loss: 1.2155 - accuracy: 0.4723\n",
            "Epoch 2/10\n",
            "168/168 [==============================] - 177s 1s/step - loss: 0.9766 - accuracy: 0.5355\n",
            "Epoch 3/10\n",
            "168/168 [==============================] - 177s 1s/step - loss: 0.9335 - accuracy: 0.5622\n",
            "Epoch 4/10\n",
            "168/168 [==============================] - 178s 1s/step - loss: 0.8946 - accuracy: 0.5908\n",
            "Epoch 5/10\n",
            "168/168 [==============================] - 178s 1s/step - loss: 0.8658 - accuracy: 0.6106\n",
            "Epoch 6/10\n",
            "168/168 [==============================] - 178s 1s/step - loss: 0.8490 - accuracy: 0.6203\n",
            "Epoch 7/10\n",
            "168/168 [==============================] - 178s 1s/step - loss: 0.7941 - accuracy: 0.6527\n",
            "Epoch 8/10\n",
            "168/168 [==============================] - 178s 1s/step - loss: 0.7854 - accuracy: 0.6560\n",
            "Epoch 9/10\n",
            "168/168 [==============================] - 177s 1s/step - loss: 0.7386 - accuracy: 0.6833\n",
            "Epoch 10/10\n",
            "168/168 [==============================] - 177s 1s/step - loss: 0.6860 - accuracy: 0.7080\n"
          ],
          "name": "stdout"
        }
      ]
    },
    {
      "cell_type": "code",
      "metadata": {
        "id": "lauWR-hmiQ0R",
        "colab": {
          "base_uri": "https://localhost:8080/",
          "height": 297
        },
        "outputId": "28cf6905-0ecc-49f2-d1c5-472ac82568a3"
      },
      "source": [
        "plt.plot(model.history['loss'], color = 'red', label = 'Loss')\n",
        "plt.xlabel('Nº epochs')\n",
        "plt.ylabel('Loss')\n",
        "plt.legend()"
      ],
      "execution_count": null,
      "outputs": [
        {
          "output_type": "execute_result",
          "data": {
            "text/plain": [
              "<matplotlib.legend.Legend at 0x7f3634816780>"
            ]
          },
          "metadata": {
            "tags": []
          },
          "execution_count": 49
        },
        {
          "output_type": "display_data",
          "data": {
            "image/png": "[encoded data removed]",
            "text/plain": [
              "<Figure size 432x288 with 1 Axes>"
            ]
          },
          "metadata": {
            "tags": [],
            "needs_background": "light"
          }
        }
      ]
    },
    {
      "cell_type": "code",
      "metadata": {
        "id": "j-x0YGDBiUTE",
        "colab": {
          "base_uri": "https://localhost:8080/",
          "height": 297
        },
        "outputId": "beb42885-ed07-4949-a056-d4943a9e3860"
      },
      "source": [
        "plt.plot(model.history['accuracy'], color = 'red', label = 'Loss')\n",
        "plt.xlabel('Nº epochs')\n",
        "plt.ylabel('Accuracy')\n",
        "plt.legend()"
      ],
      "execution_count": null,
      "outputs": [
        {
          "output_type": "execute_result",
          "data": {
            "text/plain": [
              "<matplotlib.legend.Legend at 0x7f36349286d8>"
            ]
          },
          "metadata": {
            "tags": []
          },
          "execution_count": 50
        },
        {
          "output_type": "display_data",
          "data": {
            "image/png": "[encoded data removed]",
            "text/plain": [
              "<Figure size 432x288 with 1 Axes>"
            ]
          },
          "metadata": {
            "tags": [],
            "needs_background": "light"
          }
        }
      ]
    },
    {
      "cell_type": "code",
      "metadata": {
        "id": "fUKdP9jrio5v",
        "colab": {
          "base_uri": "https://localhost:8080/",
          "height": 53
        },
        "outputId": "23998753-922f-4eb3-ef10-b61f61a303c3"
      },
      "source": [
        "test_loss, test_acc  = network.evaluate(test_images, test_labels)\n",
        "print('test_acc = ', test_acc)"
      ],
      "execution_count": null,
      "outputs": [
        {
          "output_type": "stream",
          "text": [
            "132/132 [==============================] - 10s 74ms/step - loss: 0.9419 - accuracy: 0.6146\n",
            "test_acc =  0.614578366279602\n"
          ],
          "name": "stdout"
        }
      ]
    },
    {
      "cell_type": "code",
      "metadata": {
        "id": "EBK81fusz_GG",
        "colab": {
          "base_uri": "https://localhost:8080/",
          "height": 1000
        },
        "outputId": "6e679aeb-b61d-4301-82dd-9529f537da41"
      },
      "source": [
        "acc = []\n",
        "val_acc = []\n",
        "loss = []\n",
        "val_loss = []\n",
        "\n",
        "for k in range(2):\n",
        "  rdata = np.asarray(data.sample(len(data['filename'])))\n",
        "  images = []\n",
        "  for k in range(len(rdata)):\n",
        "    #print(i, rdata[i,0])\n",
        "    images.append(np.array(Image.open('data_folder/' + rdata[k][0]).convert('L').resize((100,100))))\n",
        "  for n in range(len(rdata)):\n",
        "    if rdata[n,1] == 'picnic':\n",
        "        rdata[n,1] = 0\n",
        "    elif rdata[n,1] == 'graduation':\n",
        "        rdata[n,1] = 1\n",
        "    elif rdata[n,1] == 'meeting':\n",
        "        rdata[n,1] = 2\n",
        "  for i in range(5):\n",
        "    train_images = []\n",
        "    test_images = []\n",
        "    train_labels = []\n",
        "    test_labels = []\n",
        "\n",
        "    network.compile(optimizer = 'adam', \n",
        "                    loss = 'categorical_crossentropy', \n",
        "                    metrics = ['accuracy'])\n",
        "\n",
        "    for j in range(len(images)):\n",
        "      if j in range((i)*np.int(0.2*len(images)),(i+1)*np.int(0.2*len(images))):\n",
        "        test_images.append(np.array(images[j]))\n",
        "        test_labels.append(rdata[j,1])\n",
        "      elif j > (i)*np.int(0.2*len(images)):\n",
        "        train_images.append(np.array(images[j]))\n",
        "        train_labels.append(rdata[j,1])\n",
        "      elif j < (i+1)*np.int(0.2*len(images)):\n",
        "        train_images.append(np.array(images[j]))\n",
        "        train_labels.append(rdata[j,1])\n",
        "\n",
        "    train_images = (np.asarray(train_images) / 255)\n",
        "    test_images = (np.asarray(test_images) / 255)\n",
        "\n",
        "    train_images = np.expand_dims(train_images, axis=3)\n",
        "    test_images = np.expand_dims(test_images, axis=3)\n",
        "\n",
        "    train_labels = to_categorical(train_labels)\n",
        "    test_labels = to_categorical(test_labels)  \n",
        "\n",
        "    model = network.fit(train_images, train_labels, epochs = 10, batch_size = 100,\n",
        "                        validation_data=(test_images, test_labels))\n",
        "    \n",
        "    acc.append(model.history['accuracy'])\n",
        "    val_acc.append(model.history['val_accuracy'])\n",
        "    loss.append(model.history['loss'])\n",
        "    val_loss.append(model.history['val_loss'])\n",
        "\n",
        "    plt.plot(model.history['accuracy'], label = 'Accuracy: round %i' %(i))\n",
        "    plt.xlabel('Nº epochs')\n",
        "    plt.ylabel('Accuracy')\n",
        "    plt.legend()"
      ],
      "execution_count": null,
      "outputs": [
        {
          "output_type": "stream",
          "text": [
            "Epoch 1/10\n",
            "  2/168 [..............................] - ETA: 39s - loss: 1.7905 - accuracy: 0.3150WARNING:tensorflow:Callbacks method `on_train_batch_end` is slow compared to the batch time (batch time: 0.1000s vs `on_train_batch_end` time: 0.3770s). Check your callbacks.\n",
            "168/168 [==============================] - 85s 506ms/step - loss: 1.1874 - accuracy: 0.4353 - val_loss: 0.9990 - val_accuracy: 0.5051\n",
            "Epoch 2/10\n",
            "168/168 [==============================] - 84s 499ms/step - loss: 0.9754 - accuracy: 0.5303 - val_loss: 0.9388 - val_accuracy: 0.5699\n",
            "Epoch 3/10\n",
            "168/168 [==============================] - 84s 499ms/step - loss: 0.9368 - accuracy: 0.5629 - val_loss: 0.8981 - val_accuracy: 0.5919\n",
            "Epoch 4/10\n",
            "168/168 [==============================] - 84s 499ms/step - loss: 0.9084 - accuracy: 0.5861 - val_loss: 0.8904 - val_accuracy: 0.5949\n",
            "Epoch 5/10\n",
            "168/168 [==============================] - 84s 499ms/step - loss: 0.8805 - accuracy: 0.5986 - val_loss: 0.9037 - val_accuracy: 0.5821\n",
            "Epoch 6/10\n",
            "168/168 [==============================] - 84s 499ms/step - loss: 0.8567 - accuracy: 0.6141 - val_loss: 0.9069 - val_accuracy: 0.5866\n",
            "Epoch 7/10\n",
            "168/168 [==============================] - 84s 499ms/step - loss: 0.8151 - accuracy: 0.6423 - val_loss: 0.9184 - val_accuracy: 0.5888\n",
            "Epoch 8/10\n",
            "168/168 [==============================] - 84s 500ms/step - loss: 0.7897 - accuracy: 0.6556 - val_loss: 0.8862 - val_accuracy: 0.6185\n",
            "Epoch 9/10\n",
            "168/168 [==============================] - 84s 500ms/step - loss: 0.7625 - accuracy: 0.6708 - val_loss: 0.8643 - val_accuracy: 0.6219\n",
            "Epoch 10/10\n",
            "168/168 [==============================] - 84s 500ms/step - loss: 0.7156 - accuracy: 0.6970 - val_loss: 0.8511 - val_accuracy: 0.6257\n",
            "Epoch 1/10\n",
            "  2/168 [..............................] - ETA: 1:11 - loss: 1.1889 - accuracy: 0.5800WARNING:tensorflow:Callbacks method `on_train_batch_end` is slow compared to the batch time (batch time: 0.0945s vs `on_train_batch_end` time: 0.3827s). Check your callbacks.\n",
            "168/168 [==============================] - 84s 500ms/step - loss: 0.7692 - accuracy: 0.6725 - val_loss: 0.6344 - val_accuracy: 0.7401\n",
            "Epoch 2/10\n",
            "168/168 [==============================] - 84s 499ms/step - loss: 0.6702 - accuracy: 0.7214 - val_loss: 0.6901 - val_accuracy: 0.7034\n",
            "Epoch 3/10\n",
            "168/168 [==============================] - 84s 499ms/step - loss: 0.6098 - accuracy: 0.7451 - val_loss: 0.6832 - val_accuracy: 0.7122\n",
            "Epoch 4/10\n",
            "168/168 [==============================] - 83s 496ms/step - loss: 1.2168 - accuracy: 0.4500 - val_loss: 1.0989 - val_accuracy: 0.3312\n",
            "Epoch 5/10\n",
            "168/168 [==============================] - 83s 495ms/step - loss: 1.0988 - accuracy: 0.3339 - val_loss: 1.0987 - val_accuracy: 0.3312\n",
            "Epoch 6/10\n",
            "168/168 [==============================] - 83s 494ms/step - loss: 1.0986 - accuracy: 0.3339 - val_loss: 1.0986 - val_accuracy: 0.3312\n",
            "Epoch 7/10\n",
            "168/168 [==============================] - 83s 494ms/step - loss: 1.0987 - accuracy: 0.3322 - val_loss: 1.0986 - val_accuracy: 0.3312\n",
            "Epoch 8/10\n",
            "168/168 [==============================] - 83s 494ms/step - loss: 1.0986 - accuracy: 0.3313 - val_loss: 1.0986 - val_accuracy: 0.3343\n",
            "Epoch 9/10\n",
            "168/168 [==============================] - 83s 494ms/step - loss: 1.0987 - accuracy: 0.3303 - val_loss: 1.0986 - val_accuracy: 0.3345\n",
            "Epoch 10/10\n",
            "168/168 [==============================] - 83s 494ms/step - loss: 1.0986 - accuracy: 0.3320 - val_loss: 1.0986 - val_accuracy: 0.3312\n",
            "Epoch 1/10\n",
            "  2/168 [..............................] - ETA: 1:10 - loss: 1.0988 - accuracy: 0.3200WARNING:tensorflow:Callbacks method `on_train_batch_end` is slow compared to the batch time (batch time: 0.0952s vs `on_train_batch_end` time: 0.3740s). Check your callbacks.\n",
            "168/168 [==============================] - 83s 495ms/step - loss: 1.0987 - accuracy: 0.3267 - val_loss: 1.0986 - val_accuracy: 0.3307\n",
            "Epoch 2/10\n",
            "168/168 [==============================] - 83s 494ms/step - loss: 1.1215 - accuracy: 0.3285 - val_loss: 1.0986 - val_accuracy: 0.3307\n",
            "Epoch 3/10\n",
            "168/168 [==============================] - 83s 494ms/step - loss: 1.0987 - accuracy: 0.3313 - val_loss: 1.0986 - val_accuracy: 0.3307\n",
            "Epoch 4/10\n",
            "168/168 [==============================] - 83s 495ms/step - loss: 1.0987 - accuracy: 0.3256 - val_loss: 1.0986 - val_accuracy: 0.3357\n",
            "Epoch 5/10\n",
            "168/168 [==============================] - 83s 494ms/step - loss: 1.0987 - accuracy: 0.3281 - val_loss: 1.0986 - val_accuracy: 0.3357\n",
            "Epoch 6/10\n",
            "168/168 [==============================] - 83s 494ms/step - loss: 1.0987 - accuracy: 0.3260 - val_loss: 1.0986 - val_accuracy: 0.3307\n",
            "Epoch 7/10\n",
            "168/168 [==============================] - 83s 494ms/step - loss: 1.0986 - accuracy: 0.3285 - val_loss: 1.0986 - val_accuracy: 0.3307\n",
            "Epoch 8/10\n",
            "168/168 [==============================] - 83s 494ms/step - loss: 1.0987 - accuracy: 0.3232 - val_loss: 1.0986 - val_accuracy: 0.3307\n",
            "Epoch 9/10\n",
            "168/168 [==============================] - 83s 494ms/step - loss: 1.0987 - accuracy: 0.3314 - val_loss: 1.0986 - val_accuracy: 0.3307\n",
            "Epoch 10/10\n",
            "168/168 [==============================] - 83s 494ms/step - loss: 1.0987 - accuracy: 0.3298 - val_loss: 1.0986 - val_accuracy: 0.3307\n",
            "Epoch 1/10\n",
            "  2/168 [..............................] - ETA: 1:10 - loss: 1.0984 - accuracy: 0.3850WARNING:tensorflow:Callbacks method `on_train_batch_end` is slow compared to the batch time (batch time: 0.0991s vs `on_train_batch_end` time: 0.3761s). Check your callbacks.\n",
            "168/168 [==============================] - 83s 495ms/step - loss: 1.0987 - accuracy: 0.3267 - val_loss: 1.0986 - val_accuracy: 0.3290\n",
            "Epoch 2/10\n",
            "168/168 [==============================] - 83s 493ms/step - loss: 1.0987 - accuracy: 0.3318 - val_loss: 1.0986 - val_accuracy: 0.3333\n",
            "Epoch 3/10\n",
            "168/168 [==============================] - 83s 494ms/step - loss: 1.0987 - accuracy: 0.3275 - val_loss: 1.0987 - val_accuracy: 0.3333\n",
            "Epoch 4/10\n",
            "168/168 [==============================] - 83s 494ms/step - loss: 1.0987 - accuracy: 0.3317 - val_loss: 1.0986 - val_accuracy: 0.3333\n",
            "Epoch 5/10\n",
            "168/168 [==============================] - 83s 494ms/step - loss: 1.0987 - accuracy: 0.3306 - val_loss: 1.0986 - val_accuracy: 0.3333\n",
            "Epoch 6/10\n",
            "168/168 [==============================] - 83s 494ms/step - loss: 1.0987 - accuracy: 0.3301 - val_loss: 1.0986 - val_accuracy: 0.3333\n",
            "Epoch 7/10\n",
            "168/168 [==============================] - 83s 494ms/step - loss: 1.0987 - accuracy: 0.3308 - val_loss: 1.0987 - val_accuracy: 0.3290\n",
            "Epoch 8/10\n",
            "168/168 [==============================] - 83s 494ms/step - loss: 1.0987 - accuracy: 0.3313 - val_loss: 1.0986 - val_accuracy: 0.3290\n",
            "Epoch 9/10\n",
            "168/168 [==============================] - 83s 494ms/step - loss: 1.0987 - accuracy: 0.3267 - val_loss: 1.0986 - val_accuracy: 0.3290\n",
            "Epoch 10/10\n",
            "168/168 [==============================] - 83s 494ms/step - loss: 1.0987 - accuracy: 0.3319 - val_loss: 1.0986 - val_accuracy: 0.3333\n",
            "Epoch 1/10\n",
            "  2/168 [..............................] - ETA: 1:10 - loss: 1.0986 - accuracy: 0.3500WARNING:tensorflow:Callbacks method `on_train_batch_end` is slow compared to the batch time (batch time: 0.0959s vs `on_train_batch_end` time: 0.3806s). Check your callbacks.\n",
            "168/168 [==============================] - 83s 495ms/step - loss: 1.0987 - accuracy: 0.3332 - val_loss: 1.0986 - val_accuracy: 0.3321\n",
            "Epoch 2/10\n",
            "168/168 [==============================] - 83s 494ms/step - loss: 1.0987 - accuracy: 0.3308 - val_loss: 1.0986 - val_accuracy: 0.3321\n",
            "Epoch 3/10\n",
            "168/168 [==============================] - 83s 494ms/step - loss: 1.0987 - accuracy: 0.3323 - val_loss: 1.0986 - val_accuracy: 0.3321\n",
            "Epoch 4/10\n",
            "168/168 [==============================] - 83s 494ms/step - loss: 1.0987 - accuracy: 0.3348 - val_loss: 1.0986 - val_accuracy: 0.3338\n",
            "Epoch 5/10\n",
            "168/168 [==============================] - 83s 494ms/step - loss: 1.0987 - accuracy: 0.3308 - val_loss: 1.0986 - val_accuracy: 0.3340\n",
            "Epoch 6/10\n",
            "168/168 [==============================] - 83s 494ms/step - loss: 1.0987 - accuracy: 0.3294 - val_loss: 1.0986 - val_accuracy: 0.3338\n",
            "Epoch 7/10\n",
            "168/168 [==============================] - 83s 494ms/step - loss: 1.0987 - accuracy: 0.3293 - val_loss: 1.0986 - val_accuracy: 0.3321\n",
            "Epoch 8/10\n",
            "168/168 [==============================] - 83s 494ms/step - loss: 1.0987 - accuracy: 0.3268 - val_loss: 1.0986 - val_accuracy: 0.3321\n",
            "Epoch 9/10\n",
            "168/168 [==============================] - 83s 494ms/step - loss: 1.0987 - accuracy: 0.3331 - val_loss: 1.0986 - val_accuracy: 0.3340\n",
            "Epoch 10/10\n",
            "168/168 [==============================] - 83s 494ms/step - loss: 1.0987 - accuracy: 0.3310 - val_loss: 1.0986 - val_accuracy: 0.3321\n",
            "Epoch 1/10\n",
            "  2/168 [..............................] - ETA: 1:09 - loss: 1.0985 - accuracy: 0.3550WARNING:tensorflow:Callbacks method `on_train_batch_end` is slow compared to the batch time (batch time: 0.0939s vs `on_train_batch_end` time: 0.3739s). Check your callbacks.\n",
            "168/168 [==============================] - 83s 494ms/step - loss: 1.0986 - accuracy: 0.3365 - val_loss: 1.0989 - val_accuracy: 0.3198\n",
            "Epoch 2/10\n",
            "168/168 [==============================] - 83s 494ms/step - loss: 1.0986 - accuracy: 0.3365 - val_loss: 1.0990 - val_accuracy: 0.3198\n",
            "Epoch 3/10\n",
            "168/168 [==============================] - 83s 494ms/step - loss: 1.0987 - accuracy: 0.3343 - val_loss: 1.0988 - val_accuracy: 0.3198\n",
            "Epoch 4/10\n",
            "168/168 [==============================] - 83s 494ms/step - loss: 1.0986 - accuracy: 0.3365 - val_loss: 1.0990 - val_accuracy: 0.3198\n",
            "Epoch 5/10\n",
            "168/168 [==============================] - 83s 494ms/step - loss: 1.0986 - accuracy: 0.3321 - val_loss: 1.0990 - val_accuracy: 0.3198\n",
            "Epoch 6/10\n",
            "168/168 [==============================] - 83s 494ms/step - loss: 1.0986 - accuracy: 0.3314 - val_loss: 1.0989 - val_accuracy: 0.3198\n",
            "Epoch 7/10\n",
            "168/168 [==============================] - 83s 493ms/step - loss: 1.0986 - accuracy: 0.3365 - val_loss: 1.0988 - val_accuracy: 0.3198\n",
            "Epoch 8/10\n",
            "168/168 [==============================] - 83s 494ms/step - loss: 1.0986 - accuracy: 0.3365 - val_loss: 1.0988 - val_accuracy: 0.3198\n",
            "Epoch 9/10\n",
            "168/168 [==============================] - 83s 494ms/step - loss: 1.0986 - accuracy: 0.3348 - val_loss: 1.0989 - val_accuracy: 0.3198\n",
            "Epoch 10/10\n",
            "168/168 [==============================] - 83s 494ms/step - loss: 1.0986 - accuracy: 0.3365 - val_loss: 1.0989 - val_accuracy: 0.3198\n",
            "Epoch 1/10\n",
            "  2/168 [..............................] - ETA: 1:10 - loss: 1.0990 - accuracy: 0.3100WARNING:tensorflow:Callbacks method `on_train_batch_end` is slow compared to the batch time (batch time: 0.0970s vs `on_train_batch_end` time: 0.3786s). Check your callbacks.\n",
            "168/168 [==============================] - 83s 495ms/step - loss: 1.0987 - accuracy: 0.3302 - val_loss: 1.0986 - val_accuracy: 0.3369\n",
            "Epoch 2/10\n",
            "168/168 [==============================] - 83s 494ms/step - loss: 1.0987 - accuracy: 0.3231 - val_loss: 1.0986 - val_accuracy: 0.3312\n",
            "Epoch 3/10\n",
            "168/168 [==============================] - 83s 494ms/step - loss: 1.0987 - accuracy: 0.3315 - val_loss: 1.0986 - val_accuracy: 0.3312\n",
            "Epoch 4/10\n",
            "168/168 [==============================] - 83s 494ms/step - loss: 1.0987 - accuracy: 0.3275 - val_loss: 1.0986 - val_accuracy: 0.3312\n",
            "Epoch 5/10\n",
            "168/168 [==============================] - 83s 494ms/step - loss: 1.0987 - accuracy: 0.3324 - val_loss: 1.0986 - val_accuracy: 0.3319\n",
            "Epoch 6/10\n",
            "168/168 [==============================] - 83s 494ms/step - loss: 1.0987 - accuracy: 0.3275 - val_loss: 1.0986 - val_accuracy: 0.3312\n",
            "Epoch 7/10\n",
            "168/168 [==============================] - 83s 494ms/step - loss: 1.0987 - accuracy: 0.3286 - val_loss: 1.0986 - val_accuracy: 0.3312\n",
            "Epoch 8/10\n",
            "168/168 [==============================] - 83s 494ms/step - loss: 1.0987 - accuracy: 0.3311 - val_loss: 1.0986 - val_accuracy: 0.3319\n",
            "Epoch 9/10\n",
            "168/168 [==============================] - 83s 494ms/step - loss: 1.0986 - accuracy: 0.3339 - val_loss: 1.0987 - val_accuracy: 0.3312\n",
            "Epoch 10/10\n",
            "168/168 [==============================] - 83s 494ms/step - loss: 1.0987 - accuracy: 0.3307 - val_loss: 1.0986 - val_accuracy: 0.3319\n",
            "Epoch 1/10\n",
            "  2/168 [..............................] - ETA: 1:10 - loss: 1.0984 - accuracy: 0.3600WARNING:tensorflow:Callbacks method `on_train_batch_end` is slow compared to the batch time (batch time: 0.0948s vs `on_train_batch_end` time: 0.3819s). Check your callbacks.\n",
            "168/168 [==============================] - 83s 495ms/step - loss: 1.0986 - accuracy: 0.3384 - val_loss: 1.0991 - val_accuracy: 0.3128\n",
            "Epoch 2/10\n",
            "168/168 [==============================] - 83s 493ms/step - loss: 1.0986 - accuracy: 0.3387 - val_loss: 1.0992 - val_accuracy: 0.3128\n",
            "Epoch 3/10\n",
            "168/168 [==============================] - 83s 494ms/step - loss: 1.0986 - accuracy: 0.3387 - val_loss: 1.0992 - val_accuracy: 0.3128\n",
            "Epoch 4/10\n",
            "168/168 [==============================] - 83s 494ms/step - loss: 1.0986 - accuracy: 0.3387 - val_loss: 1.0992 - val_accuracy: 0.3128\n",
            "Epoch 5/10\n",
            "168/168 [==============================] - 83s 494ms/step - loss: 1.0986 - accuracy: 0.3387 - val_loss: 1.0992 - val_accuracy: 0.3128\n",
            "Epoch 6/10\n",
            "168/168 [==============================] - 83s 494ms/step - loss: 1.0986 - accuracy: 0.3387 - val_loss: 1.0993 - val_accuracy: 0.3128\n",
            "Epoch 7/10\n",
            "168/168 [==============================] - 83s 494ms/step - loss: 1.0986 - accuracy: 0.3387 - val_loss: 1.0993 - val_accuracy: 0.3128\n",
            "Epoch 8/10\n",
            "168/168 [==============================] - 83s 494ms/step - loss: 1.0986 - accuracy: 0.3387 - val_loss: 1.0993 - val_accuracy: 0.3128\n",
            "Epoch 9/10\n",
            "168/168 [==============================] - 83s 494ms/step - loss: 1.0986 - accuracy: 0.3387 - val_loss: 1.0992 - val_accuracy: 0.3128\n",
            "Epoch 10/10\n",
            "168/168 [==============================] - 83s 494ms/step - loss: 1.0986 - accuracy: 0.3387 - val_loss: 1.0991 - val_accuracy: 0.3128\n",
            "Epoch 1/10\n",
            "  2/168 [..............................] - ETA: 1:10 - loss: 1.0973 - accuracy: 0.3900WARNING:tensorflow:Callbacks method `on_train_batch_end` is slow compared to the batch time (batch time: 0.0967s vs `on_train_batch_end` time: 0.3791s). Check your callbacks.\n",
            "168/168 [==============================] - 83s 495ms/step - loss: 1.0987 - accuracy: 0.3328 - val_loss: 1.0986 - val_accuracy: 0.3305\n",
            "Epoch 2/10\n",
            "168/168 [==============================] - 83s 494ms/step - loss: 1.0987 - accuracy: 0.3319 - val_loss: 1.0986 - val_accuracy: 0.3357\n",
            "Epoch 3/10\n",
            "168/168 [==============================] - 83s 494ms/step - loss: 1.0987 - accuracy: 0.3275 - val_loss: 1.0986 - val_accuracy: 0.3305\n",
            "Epoch 4/10\n",
            "168/168 [==============================] - 83s 494ms/step - loss: 1.0987 - accuracy: 0.3344 - val_loss: 1.0986 - val_accuracy: 0.3357\n",
            "Epoch 5/10\n",
            "168/168 [==============================] - 83s 493ms/step - loss: 1.0987 - accuracy: 0.3332 - val_loss: 1.0986 - val_accuracy: 0.3338\n",
            "Epoch 6/10\n",
            "168/168 [==============================] - 83s 493ms/step - loss: 1.0987 - accuracy: 0.3339 - val_loss: 1.0986 - val_accuracy: 0.3305\n",
            "Epoch 7/10\n",
            "168/168 [==============================] - 83s 494ms/step - loss: 1.0987 - accuracy: 0.3297 - val_loss: 1.0986 - val_accuracy: 0.3305\n",
            "Epoch 8/10\n",
            "168/168 [==============================] - 83s 494ms/step - loss: 1.0987 - accuracy: 0.3278 - val_loss: 1.0986 - val_accuracy: 0.3305\n",
            "Epoch 9/10\n",
            "168/168 [==============================] - 83s 493ms/step - loss: 1.0987 - accuracy: 0.3313 - val_loss: 1.0987 - val_accuracy: 0.3305\n",
            "Epoch 10/10\n",
            "168/168 [==============================] - 83s 493ms/step - loss: 1.0987 - accuracy: 0.3299 - val_loss: 1.0986 - val_accuracy: 0.3305\n",
            "Epoch 1/10\n",
            "  2/168 [..............................] - ETA: 1:10 - loss: 1.0987 - accuracy: 0.2850WARNING:tensorflow:Callbacks method `on_train_batch_end` is slow compared to the batch time (batch time: 0.0935s vs `on_train_batch_end` time: 0.3739s). Check your callbacks.\n",
            "168/168 [==============================] - 83s 495ms/step - loss: 1.0987 - accuracy: 0.3333 - val_loss: 1.0988 - val_accuracy: 0.3207\n",
            "Epoch 2/10\n",
            "168/168 [==============================] - 83s 494ms/step - loss: 1.0986 - accuracy: 0.3344 - val_loss: 1.0988 - val_accuracy: 0.3207\n",
            "Epoch 3/10\n",
            "168/168 [==============================] - 83s 494ms/step - loss: 1.0986 - accuracy: 0.3345 - val_loss: 1.0988 - val_accuracy: 0.3207\n",
            "Epoch 4/10\n",
            "168/168 [==============================] - 83s 494ms/step - loss: 1.0986 - accuracy: 0.3365 - val_loss: 1.0989 - val_accuracy: 0.3207\n",
            "Epoch 5/10\n",
            "168/168 [==============================] - 83s 493ms/step - loss: 1.0986 - accuracy: 0.3365 - val_loss: 1.0989 - val_accuracy: 0.3207\n",
            "Epoch 6/10\n",
            "168/168 [==============================] - 83s 494ms/step - loss: 1.0986 - accuracy: 0.3365 - val_loss: 1.0987 - val_accuracy: 0.3207\n",
            "Epoch 7/10\n",
            "168/168 [==============================] - 83s 494ms/step - loss: 1.0986 - accuracy: 0.3365 - val_loss: 1.0989 - val_accuracy: 0.3207\n",
            "Epoch 8/10\n",
            "168/168 [==============================] - 83s 493ms/step - loss: 1.0986 - accuracy: 0.3365 - val_loss: 1.0988 - val_accuracy: 0.3207\n",
            "Epoch 9/10\n",
            "168/168 [==============================] - 83s 494ms/step - loss: 1.0986 - accuracy: 0.3343 - val_loss: 1.0988 - val_accuracy: 0.3207\n",
            "Epoch 10/10\n",
            "168/168 [==============================] - 83s 494ms/step - loss: 1.0986 - accuracy: 0.3365 - val_loss: 1.0987 - val_accuracy: 0.3207\n"
          ],
          "name": "stdout"
        },
        {
          "output_type": "display_data",
          "data": {
            "image/png": "[encoded data removed]",
            "text/plain": [
              "<Figure size 432x288 with 1 Axes>"
            ]
          },
          "metadata": {
            "tags": [],
            "needs_background": "light"
          }
        }
      ]
    },
    {
      "cell_type": "code",
      "metadata": {
        "id": "Oen3yjJKzd_J"
      },
      "source": [
        "pred = network.predict(test_images)\n",
        "\n",
        "th = np.linspace(0, 1, 100)"
      ],
      "execution_count": null,
      "outputs": []
    },
    {
      "cell_type": "code",
      "metadata": {
        "id": "aVBzrEVWqiZm"
      },
      "source": [
        "def ROC(th, pred, test_label):\n",
        "    FPR = np.zeros(len(th))\n",
        "    TPR = np.zeros(len(th))\n",
        "    \n",
        "    N = pred[np.where(test_label == 0)]\n",
        "    P = pred[np.where(test_label == 1)]\n",
        "    \n",
        "    for i in range(len(th)):\n",
        "        FN = len(np.where(P <= th[i])[0])\n",
        "        FP = len(np.where(N > th[i])[0])\n",
        "        TN = len(np.where(N <= th[i])[0])\n",
        "        TP = len(np.where(P > th[i])[0])\n",
        "        \n",
        "        FPR[i] = FP/(FP + TN)\n",
        "        TPR[i] = TP/(TP + FN)\n",
        "        \n",
        "        result = np.concatenate((FPR, TPR)).reshape(2, len(th))#.T (Quando for plotar, tira esse T e qnd for integrar deixa)\n",
        "        \n",
        "    return result[np.argsort(result[:,0])]\n",
        "\n",
        "plt.plot(*ROC(th, pred, test_label))\n",
        "plt.xlabel('False positive rate')\n",
        "plt.ylabel('True positive rate')\n",
        "\n",
        "roc = ROC(th, pred, test_label).T\n",
        "\n",
        "# Exclude repeated values to allow integration\n",
        "r = roc[:1]\n",
        "for i in range(1,len(roc)):\n",
        "\n",
        "  if (roc[i,0] != roc[i-1,0]):\n",
        "\n",
        "    r = np.append(r, roc[i])\n",
        "\n",
        "# ROC curve without repeated values\n",
        "roc = r.reshape((np.int(len(r)/2), 2))\n",
        "\n",
        "S = -simps(roc[:,1], roc[:,0])\n",
        "print('Área ROC:', S)"
      ],
      "execution_count": null,
      "outputs": []
    }
  ]
}